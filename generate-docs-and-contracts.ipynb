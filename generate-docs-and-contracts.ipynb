{
 "cells": [
  {
   "cell_type": "markdown",
   "metadata": {},
   "source": [
    "# Generate Docs and Contracts\n",
    "#### Scripts to generate various and sometimes complex document and contract JSON schemas for Dash Platform"
   ]
  },
  {
   "cell_type": "markdown",
   "metadata": {},
   "source": [
    "## Contracts\n",
    "\n",
    "#### Contract of Layered Properties"
   ]
  },
  {
   "cell_type": "code",
   "execution_count": 1,
   "metadata": {
    "scrolled": false
   },
   "outputs": [],
   "source": [
    "layers = 4\n",
    "properties = 3\n",
    "\n",
    "def insert_properties(obj):\n",
    "    for i in range(properties):\n",
    "        current_name = \"abc{}\".format(i)\n",
    "        obj[current_name] = {}\n",
    "        obj[current_name][\"type\"] = \"string\"\n",
    "        #obj[current_name][\"pattern\"] = \"^[a-zA-Z$][a-zA-Z0-9-_.]{1,61}[a-zA-Z0-9]$\"\n",
    "        obj[current_name][\"maxLength\"] = 63\n",
    "\n",
    "def build_contract(dictionary, layer_count):\n",
    "    if layer_count == layers:\n",
    "        insert_properties(dictionary)\n",
    "    else:\n",
    "        for i in range(properties):\n",
    "            current_name = \"abc{}\".format(i)\n",
    "            dictionary[current_name] = {\"type\":\"object\",\"properties\":{},\"additionalProperties\":False}\n",
    "            build_contract(dictionary[current_name][\"properties\"], layer_count+1)\n",
    "\n",
    "contract = {}\n",
    "build_contract(contract,0)\n",
    "JSON_contract = str(contract).replace('\\'',\"\\\"\")\n",
    "JSON_contract = JSON_contract.replace(\"False\", \"false\")\n",
    "JSON_contract = JSON_contract.replace(\" \", \"\")\n",
    "\n",
    "file = open(\"contract-layered-properties.txt\", \"w\")\n",
    "file.write(str(JSON_contract))\n",
    "file.close()"
   ]
  },
  {
   "cell_type": "markdown",
   "metadata": {},
   "source": [
    "#### Contract of 100 Indexed Strings"
   ]
  },
  {
   "cell_type": "code",
   "execution_count": 2,
   "metadata": {
    "scrolled": true
   },
   "outputs": [],
   "source": [
    "#init\n",
    "contract = {\"abc0\":{\"type\":\"object\",\"indices\":[],\"properties\":{},\"additionalProperties\":False}}\n",
    "\n",
    "#the indices\n",
    "for i in range(3):\n",
    "    contract[\"abc0\"][\"indices\"].append({\"name\":\"unique{}\".format(i),\"properties\":[],\"unique\":True})\n",
    "for i in range(7):\n",
    "    contract[\"abc0\"][\"indices\"].append({\"name\":\"non_unique{}\".format(i),\"properties\":[],\"unique\":False})\n",
    "    \n",
    "#the properties\n",
    "count = 0\n",
    "for i in contract[\"abc0\"][\"indices\"]:\n",
    "    for j in range(10):\n",
    "        i[\"properties\"].append({\"abc{}\".format(count):\"asc\"})\n",
    "        count += 1\n",
    "for i in range(100):\n",
    "    contract[\"abc0\"][\"properties\"][\"abc{}\".format(i)] = {\"type\":\"string\",\"maxLength\":63}\n",
    "    \n",
    "#format and save to file\n",
    "JSON_contract = str(contract).replace('\\'',\"\\\"\")\n",
    "JSON_contract = JSON_contract.replace(\"True\", \"true\")\n",
    "JSON_contract = JSON_contract.replace(\"False\", \"false\")\n",
    "JSON_contract = JSON_contract.replace(\" \", \"\")\n",
    "file = open(\"contract-100-indexed-strings.txt\", \"w\")\n",
    "file.write(JSON_contract)\n",
    "file.close()"
   ]
  },
  {
   "cell_type": "markdown",
   "metadata": {},
   "source": [
    "#### Contract of 100 Indexed Regex"
   ]
  },
  {
   "cell_type": "code",
   "execution_count": 3,
   "metadata": {},
   "outputs": [],
   "source": [
    "regex = \"^[a-zA-Z$][a-zA-Z0-9-_.]{1,61}[a-zA-Z0-9]$\"\n",
    "\n",
    "#init\n",
    "contract = {\"abc0\":{\"type\":\"object\",\"indices\":[],\"properties\":{},\"additionalProperties\":False}}\n",
    "\n",
    "#the indices\n",
    "for i in range(3):\n",
    "    contract[\"abc0\"][\"indices\"].append({\"name\":\"unique{}\".format(i),\"properties\":[],\"unique\":True})\n",
    "for i in range(7):\n",
    "    contract[\"abc0\"][\"indices\"].append({\"name\":\"non_unique{}\".format(i),\"properties\":[],\"unique\":False})\n",
    "\n",
    "#the properties\n",
    "count = 0\n",
    "for i in contract[\"abc0\"][\"indices\"]:\n",
    "    for j in range(10):\n",
    "        i[\"properties\"].append({\"abc{}\".format(count):\"asc\"})\n",
    "        count += 1\n",
    "for i in range(100):\n",
    "    contract[\"abc0\"][\"properties\"][\"abc{}\".format(i)] = {\"type\":\"string\",\"pattern\":regex,\"maxLength\":63}\n",
    "    \n",
    "#format and save to file\n",
    "JSON_contract = str(contract).replace('\\'',\"\\\"\")\n",
    "JSON_contract = JSON_contract.replace(\"True\", \"true\")\n",
    "JSON_contract = JSON_contract.replace(\"False\", \"false\")\n",
    "JSON_contract = JSON_contract.replace(\" \", \"\")\n",
    "file = open(\"contract-100-indexed-regex.txt\", \"w\")\n",
    "file.write(JSON_contract)\n",
    "file.close()"
   ]
  },
  {
   "cell_type": "markdown",
   "metadata": {},
   "source": [
    "## Documents\n",
    "\n",
    "#### Document of x strings"
   ]
  },
  {
   "cell_type": "code",
   "execution_count": 4,
   "metadata": {},
   "outputs": [],
   "source": [
    "x = 100\n",
    "\n",
    "import random\n",
    "properties = {}\n",
    "\n",
    "for i in range(x):\n",
    "    letters = random.choices(\"abcdefghijklmnopqrstuvwxyzABCDEFGHIJKLMNOPQRSTUVWXYZ\", k=63)\n",
    "    string = ''\n",
    "    for j in letters:\n",
    "        string += j\n",
    "    properties[\"abc{}\".format(i)] = string\n",
    "\n",
    "#format and save to file\n",
    "JSON_doc = str(properties).replace('\\'',\"\\\"\")\n",
    "JSON_doc = JSON_doc.replace(\" \",\"\")\n",
    "file = open(\"doc-x-strings.txt\", \"w\")\n",
    "file.write(JSON_doc)\n",
    "file.close()"
   ]
  },
  {
   "cell_type": "markdown",
   "metadata": {},
   "source": [
    "#### Document of layered objects"
   ]
  },
  {
   "cell_type": "code",
   "execution_count": 5,
   "metadata": {},
   "outputs": [],
   "source": [
    "layers = 4\n",
    "properties = 3\n",
    "\n",
    "def insert_properties(obj):\n",
    "    for i in range(properties):\n",
    "        letters = random.choices(\"abcdefghijklmnopqrstuvwxyzABCDEFGHIJKLMNOPQRSTUVWXYZ\", k=63)\n",
    "        string = ''\n",
    "        for j in letters:\n",
    "            string += j\n",
    "        current_name = \"abc{}\".format(i)\n",
    "        obj[current_name] = string\n",
    "    \n",
    "def build_doc(dictionary, layer_count):\n",
    "    if layer_count == layers-1:\n",
    "        insert_properties(dictionary)\n",
    "    else:\n",
    "        for i in range(properties):\n",
    "            current_name = \"abc{}\".format(i)\n",
    "            dictionary[current_name] = {}\n",
    "            build_doc(dictionary[current_name], layer_count+1)\n",
    "\n",
    "doc = {}\n",
    "build_doc(doc,0)\n",
    "JSON_doc = str(doc).replace('\\'',\"\\\"\")\n",
    "JSON_doc = JSON_doc.replace(\"False\", \"false\")\n",
    "JSON_doc = JSON_doc.replace(\" \", \"\")\n",
    "\n",
    "file = open(\"doc-layered-properties.txt\", \"w\")\n",
    "file.write(str(JSON_doc))\n",
    "file.close()"
   ]
  }
 ],
 "metadata": {
  "kernelspec": {
   "display_name": "Python 3",
   "language": "python",
   "name": "python3"
  },
  "language_info": {
   "codemirror_mode": {
    "name": "ipython",
    "version": 3
   },
   "file_extension": ".py",
   "mimetype": "text/x-python",
   "name": "python",
   "nbconvert_exporter": "python",
   "pygments_lexer": "ipython3",
   "version": "3.8.10"
  }
 },
 "nbformat": 4,
 "nbformat_minor": 4
}
